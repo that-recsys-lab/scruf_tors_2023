{
 "cells": [
  {
   "cell_type": "code",
   "execution_count": 3,
   "metadata": {
    "collapsed": true,
    "ExecuteTime": {
     "end_time": "2023-06-30T18:09:29.089473100Z",
     "start_time": "2023-06-30T18:09:29.077338200Z"
    }
   },
   "outputs": [],
   "source": [
    "import pandas as pd"
   ]
  },
  {
   "cell_type": "code",
   "execution_count": 6,
   "outputs": [],
   "source": [
    "d = pd.read_csv('compat.csv', header = None)\n",
    "dm = d.groupby([0], as_index=False).sum()"
   ],
   "metadata": {
    "collapsed": false,
    "ExecuteTime": {
     "end_time": "2023-06-30T18:14:36.039168700Z",
     "start_time": "2023-06-30T18:14:35.981122400Z"
    }
   }
  },
  {
   "cell_type": "code",
   "execution_count": 27,
   "outputs": [],
   "source": [
    "final = pd.merge(d, dm, on=[0])\n",
    "final.columns =['0','1','2','3']\n",
    "final = final.sort_values(by=['3', '0'])\n",
    "final = final.drop(['3'], axis=1)\n",
    "\n",
    "final.to_csv(\"compat_least_to_most.csv\",header=False, index=False)"
   ],
   "metadata": {
    "collapsed": false,
    "ExecuteTime": {
     "end_time": "2023-06-30T18:33:03.349460600Z",
     "start_time": "2023-06-30T18:33:03.314177300Z"
    }
   }
  }
 ],
 "metadata": {
  "kernelspec": {
   "display_name": "Python 3",
   "language": "python",
   "name": "python3"
  },
  "language_info": {
   "codemirror_mode": {
    "name": "ipython",
    "version": 2
   },
   "file_extension": ".py",
   "mimetype": "text/x-python",
   "name": "python",
   "nbconvert_exporter": "python",
   "pygments_lexer": "ipython2",
   "version": "2.7.6"
  }
 },
 "nbformat": 4,
 "nbformat_minor": 0
}
