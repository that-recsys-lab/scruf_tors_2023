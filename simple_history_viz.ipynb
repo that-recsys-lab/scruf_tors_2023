{
 "cells": [
  {
   "cell_type": "markdown",
   "id": "0b5ee2d2-c7b1-4469-813b-e1372dcf9f83",
   "metadata": {},
   "source": [
    "### Install jsonlines if you need it"
   ]
  },
  {
   "cell_type": "markdown",
   "id": "a680e604-bad7-4e5d-af78-532510d784bc",
   "metadata": {},
   "source": [
    "import sys\n",
    "!conda install --yes --prefix {sys.prefix} jsonlines"
   ]
  },
  {
   "cell_type": "markdown",
   "id": "55218b7e-ed4b-4476-b426-e9326f26b07f",
   "metadata": {},
   "source": [
    "### Imports"
   ]
  },
  {
   "cell_type": "code",
   "execution_count": 1,
   "id": "90493d1a-2a88-4d3c-878a-d0625f9baf69",
   "metadata": {},
   "outputs": [],
   "source": [
    "import pandas as pd\n",
    "import numpy as np\n",
    "import matplotlib.pyplot as plt\n",
    "import seaborn as sb\n",
    "import jsonlines"
   ]
  },
  {
   "cell_type": "markdown",
   "id": "67e7dce2-e14a-400c-b469-057313e1a210",
   "metadata": {},
   "source": [
    "## Read the simulation output"
   ]
  },
  {
   "cell_type": "markdown",
   "id": "da40b404-25ca-41de-8643-198507facb51",
   "metadata": {},
   "source": [
    "First as raw JSON lines"
   ]
  },
  {
   "cell_type": "code",
   "execution_count": 2,
   "id": "d6d5d34d-e716-4742-925f-358f79b3ae3a",
   "metadata": {},
   "outputs": [],
   "source": [
    "HISTORY_FILE = 'data1K-2agents/Data/history_file_baseline_2agents.json'"
   ]
  },
  {
   "cell_type": "code",
   "execution_count": 3,
   "id": "5534296f-9cf6-440c-9804-c1c8d146817a",
   "metadata": {},
   "outputs": [],
   "source": [
    "history = []\n",
    "with jsonlines.open(HISTORY_FILE) as reader:\n",
    "    for obj in reader:\n",
    "        history.append(obj)"
   ]
  },
  {
   "cell_type": "markdown",
   "id": "30b17e1b-f86f-46b1-9844-48cc70609b71",
   "metadata": {},
   "source": [
    "Functions to process the history"
   ]
  },
  {
   "cell_type": "code",
   "execution_count": 4,
   "id": "fac5fb5e-63ee-4e40-9e9e-8a2e9095d721",
   "metadata": {},
   "outputs": [],
   "source": [
    "def process_history(history, fair=True, compat=True, alloc=True, lists=True):\n",
    "    if fair:\n",
    "        fair_list = [entry['allocation']['fairness scores'] for entry in history]\n",
    "        fair_df = pd.DataFrame(fair_list)\n",
    "    else:\n",
    "        fair_df = None\n",
    "        \n",
    "    if compat:\n",
    "        compat_list = [entry['allocation']['compatibility scores'] for entry in history]\n",
    "        compat_df = pd.DataFrame(compat_list)\n",
    "    else:\n",
    "        compat_df = None\n",
    "        \n",
    "    if alloc:\n",
    "        alloc_list = [entry['allocation']['output'] for entry in history]\n",
    "        alloc_df = pd.DataFrame(alloc_list)\n",
    "    else:\n",
    "        alloc_df = None\n",
    "        \n",
    "    if lists:\n",
    "        results_list = [process_results(entry['choice']['output']['results']) for entry in history]\n",
    "    else:\n",
    "        results_list = None\n",
    "        \n",
    "    return fair_df, compat_df, alloc_df, results_list\n",
    "\n",
    "def process_results(result_structs):\n",
    "    return [(entry['item'], entry['score']) for entry in result_structs]\n",
    "        "
   ]
  },
  {
   "cell_type": "markdown",
   "id": "788aafab-3bb7-4ce3-9902-f8db6695c0af",
   "metadata": {},
   "source": [
    "Get the individual data frames and result lists"
   ]
  },
  {
   "cell_type": "code",
   "execution_count": 5,
   "id": "52b6ff9f-252c-482f-bfe2-7df6726ef191",
   "metadata": {},
   "outputs": [],
   "source": [
    "fair_df, compat_df, alloc_df, results = process_history(history)"
   ]
  },
  {
   "cell_type": "code",
   "execution_count": 6,
   "id": "69888a65-058b-4753-af52-768d832bba23",
   "metadata": {},
   "outputs": [
    {
     "data": {
      "text/html": [
       "<div>\n",
       "<style scoped>\n",
       "    .dataframe tbody tr th:only-of-type {\n",
       "        vertical-align: middle;\n",
       "    }\n",
       "\n",
       "    .dataframe tbody tr th {\n",
       "        vertical-align: top;\n",
       "    }\n",
       "\n",
       "    .dataframe thead th {\n",
       "        text-align: right;\n",
       "    }\n",
       "</style>\n",
       "<table border=\"1\" class=\"dataframe\">\n",
       "  <thead>\n",
       "    <tr style=\"text-align: right;\">\n",
       "      <th></th>\n",
       "      <th>Agent1</th>\n",
       "      <th>Agent2</th>\n",
       "    </tr>\n",
       "  </thead>\n",
       "  <tbody>\n",
       "    <tr>\n",
       "      <th>0</th>\n",
       "      <td>1.000000</td>\n",
       "      <td>1.000000</td>\n",
       "    </tr>\n",
       "    <tr>\n",
       "      <th>1</th>\n",
       "      <td>0.133333</td>\n",
       "      <td>0.400000</td>\n",
       "    </tr>\n",
       "    <tr>\n",
       "      <th>2</th>\n",
       "      <td>0.200000</td>\n",
       "      <td>0.700000</td>\n",
       "    </tr>\n",
       "    <tr>\n",
       "      <th>3</th>\n",
       "      <td>0.266667</td>\n",
       "      <td>0.666667</td>\n",
       "    </tr>\n",
       "    <tr>\n",
       "      <th>4</th>\n",
       "      <td>0.266667</td>\n",
       "      <td>0.550000</td>\n",
       "    </tr>\n",
       "    <tr>\n",
       "      <th>...</th>\n",
       "      <td>...</td>\n",
       "      <td>...</td>\n",
       "    </tr>\n",
       "    <tr>\n",
       "      <th>995</th>\n",
       "      <td>0.320000</td>\n",
       "      <td>0.540000</td>\n",
       "    </tr>\n",
       "    <tr>\n",
       "      <th>996</th>\n",
       "      <td>0.333333</td>\n",
       "      <td>0.540000</td>\n",
       "    </tr>\n",
       "    <tr>\n",
       "      <th>997</th>\n",
       "      <td>0.306667</td>\n",
       "      <td>0.540000</td>\n",
       "    </tr>\n",
       "    <tr>\n",
       "      <th>998</th>\n",
       "      <td>0.333333</td>\n",
       "      <td>0.520000</td>\n",
       "    </tr>\n",
       "    <tr>\n",
       "      <th>999</th>\n",
       "      <td>0.346667</td>\n",
       "      <td>0.560000</td>\n",
       "    </tr>\n",
       "  </tbody>\n",
       "</table>\n",
       "<p>1000 rows × 2 columns</p>\n",
       "</div>"
      ],
      "text/plain": [
       "       Agent1    Agent2\n",
       "0    1.000000  1.000000\n",
       "1    0.133333  0.400000\n",
       "2    0.200000  0.700000\n",
       "3    0.266667  0.666667\n",
       "4    0.266667  0.550000\n",
       "..        ...       ...\n",
       "995  0.320000  0.540000\n",
       "996  0.333333  0.540000\n",
       "997  0.306667  0.540000\n",
       "998  0.333333  0.520000\n",
       "999  0.346667  0.560000\n",
       "\n",
       "[1000 rows x 2 columns]"
      ]
     },
     "execution_count": 6,
     "metadata": {},
     "output_type": "execute_result"
    }
   ],
   "source": [
    "fair_df"
   ]
  },
  {
   "cell_type": "code",
   "execution_count": 7,
   "id": "05db6d25-272a-4d81-8716-d5ed5fe39d5e",
   "metadata": {},
   "outputs": [
    {
     "data": {
      "text/html": [
       "<div>\n",
       "<style scoped>\n",
       "    .dataframe tbody tr th:only-of-type {\n",
       "        vertical-align: middle;\n",
       "    }\n",
       "\n",
       "    .dataframe tbody tr th {\n",
       "        vertical-align: top;\n",
       "    }\n",
       "\n",
       "    .dataframe thead th {\n",
       "        text-align: right;\n",
       "    }\n",
       "</style>\n",
       "<table border=\"1\" class=\"dataframe\">\n",
       "  <thead>\n",
       "    <tr style=\"text-align: right;\">\n",
       "      <th></th>\n",
       "      <th>Agent1</th>\n",
       "      <th>Agent2</th>\n",
       "    </tr>\n",
       "  </thead>\n",
       "  <tbody>\n",
       "    <tr>\n",
       "      <th>0</th>\n",
       "      <td>1.0</td>\n",
       "      <td>0.0</td>\n",
       "    </tr>\n",
       "    <tr>\n",
       "      <th>1</th>\n",
       "      <td>1.0</td>\n",
       "      <td>0.0</td>\n",
       "    </tr>\n",
       "    <tr>\n",
       "      <th>2</th>\n",
       "      <td>1.0</td>\n",
       "      <td>0.0</td>\n",
       "    </tr>\n",
       "    <tr>\n",
       "      <th>3</th>\n",
       "      <td>1.0</td>\n",
       "      <td>0.0</td>\n",
       "    </tr>\n",
       "    <tr>\n",
       "      <th>4</th>\n",
       "      <td>1.0</td>\n",
       "      <td>0.0</td>\n",
       "    </tr>\n",
       "    <tr>\n",
       "      <th>...</th>\n",
       "      <td>...</td>\n",
       "      <td>...</td>\n",
       "    </tr>\n",
       "    <tr>\n",
       "      <th>995</th>\n",
       "      <td>0.0</td>\n",
       "      <td>0.0</td>\n",
       "    </tr>\n",
       "    <tr>\n",
       "      <th>996</th>\n",
       "      <td>0.0</td>\n",
       "      <td>0.0</td>\n",
       "    </tr>\n",
       "    <tr>\n",
       "      <th>997</th>\n",
       "      <td>0.0</td>\n",
       "      <td>0.0</td>\n",
       "    </tr>\n",
       "    <tr>\n",
       "      <th>998</th>\n",
       "      <td>0.0</td>\n",
       "      <td>0.0</td>\n",
       "    </tr>\n",
       "    <tr>\n",
       "      <th>999</th>\n",
       "      <td>0.0</td>\n",
       "      <td>0.0</td>\n",
       "    </tr>\n",
       "  </tbody>\n",
       "</table>\n",
       "<p>1000 rows × 2 columns</p>\n",
       "</div>"
      ],
      "text/plain": [
       "     Agent1  Agent2\n",
       "0       1.0     0.0\n",
       "1       1.0     0.0\n",
       "2       1.0     0.0\n",
       "3       1.0     0.0\n",
       "4       1.0     0.0\n",
       "..      ...     ...\n",
       "995     0.0     0.0\n",
       "996     0.0     0.0\n",
       "997     0.0     0.0\n",
       "998     0.0     0.0\n",
       "999     0.0     0.0\n",
       "\n",
       "[1000 rows x 2 columns]"
      ]
     },
     "execution_count": 7,
     "metadata": {},
     "output_type": "execute_result"
    }
   ],
   "source": [
    "compat_df"
   ]
  },
  {
   "cell_type": "code",
   "execution_count": 8,
   "id": "88bec460-a1ac-4f5c-92a5-390ede2ed123",
   "metadata": {},
   "outputs": [
    {
     "data": {
      "text/html": [
       "<div>\n",
       "<style scoped>\n",
       "    .dataframe tbody tr th:only-of-type {\n",
       "        vertical-align: middle;\n",
       "    }\n",
       "\n",
       "    .dataframe tbody tr th {\n",
       "        vertical-align: top;\n",
       "    }\n",
       "\n",
       "    .dataframe thead th {\n",
       "        text-align: right;\n",
       "    }\n",
       "</style>\n",
       "<table border=\"1\" class=\"dataframe\">\n",
       "  <thead>\n",
       "    <tr style=\"text-align: right;\">\n",
       "      <th></th>\n",
       "      <th>Agent1</th>\n",
       "      <th>Agent2</th>\n",
       "    </tr>\n",
       "  </thead>\n",
       "  <tbody>\n",
       "    <tr>\n",
       "      <th>0</th>\n",
       "      <td>0.0</td>\n",
       "      <td>0.0</td>\n",
       "    </tr>\n",
       "    <tr>\n",
       "      <th>1</th>\n",
       "      <td>0.0</td>\n",
       "      <td>0.0</td>\n",
       "    </tr>\n",
       "    <tr>\n",
       "      <th>2</th>\n",
       "      <td>0.0</td>\n",
       "      <td>0.0</td>\n",
       "    </tr>\n",
       "    <tr>\n",
       "      <th>3</th>\n",
       "      <td>0.0</td>\n",
       "      <td>0.0</td>\n",
       "    </tr>\n",
       "    <tr>\n",
       "      <th>4</th>\n",
       "      <td>0.0</td>\n",
       "      <td>0.0</td>\n",
       "    </tr>\n",
       "    <tr>\n",
       "      <th>...</th>\n",
       "      <td>...</td>\n",
       "      <td>...</td>\n",
       "    </tr>\n",
       "    <tr>\n",
       "      <th>995</th>\n",
       "      <td>0.0</td>\n",
       "      <td>0.0</td>\n",
       "    </tr>\n",
       "    <tr>\n",
       "      <th>996</th>\n",
       "      <td>0.0</td>\n",
       "      <td>0.0</td>\n",
       "    </tr>\n",
       "    <tr>\n",
       "      <th>997</th>\n",
       "      <td>0.0</td>\n",
       "      <td>0.0</td>\n",
       "    </tr>\n",
       "    <tr>\n",
       "      <th>998</th>\n",
       "      <td>0.0</td>\n",
       "      <td>0.0</td>\n",
       "    </tr>\n",
       "    <tr>\n",
       "      <th>999</th>\n",
       "      <td>0.0</td>\n",
       "      <td>0.0</td>\n",
       "    </tr>\n",
       "  </tbody>\n",
       "</table>\n",
       "<p>1000 rows × 2 columns</p>\n",
       "</div>"
      ],
      "text/plain": [
       "     Agent1  Agent2\n",
       "0       0.0     0.0\n",
       "1       0.0     0.0\n",
       "2       0.0     0.0\n",
       "3       0.0     0.0\n",
       "4       0.0     0.0\n",
       "..      ...     ...\n",
       "995     0.0     0.0\n",
       "996     0.0     0.0\n",
       "997     0.0     0.0\n",
       "998     0.0     0.0\n",
       "999     0.0     0.0\n",
       "\n",
       "[1000 rows x 2 columns]"
      ]
     },
     "execution_count": 8,
     "metadata": {},
     "output_type": "execute_result"
    }
   ],
   "source": [
    "alloc_df"
   ]
  },
  {
   "cell_type": "code",
   "execution_count": 9,
   "id": "d9419a38-f3f8-45d7-a1da-de3530012c4a",
   "metadata": {},
   "outputs": [
    {
     "data": {
      "text/plain": [
       "[('42', 1.002027587759301),\n",
       " ('36', 0.9878772523810716),\n",
       " ('57', 0.9807342866560074),\n",
       " ('41', 0.9748479010875364),\n",
       " ('10', 0.9693499584234531),\n",
       " ('60', 0.9585936423507866),\n",
       " ('97', 0.9465247190654296),\n",
       " ('85', 0.9432903274783636),\n",
       " ('70', 0.9319414287410432),\n",
       " ('61', 0.9314771081543451)]"
      ]
     },
     "execution_count": 9,
     "metadata": {},
     "output_type": "execute_result"
    }
   ],
   "source": [
    "results[0]"
   ]
  },
  {
   "cell_type": "markdown",
   "id": "4b11f144-7c54-4ac0-ab27-e8debc7d1854",
   "metadata": {},
   "source": [
    "## Visualizations"
   ]
  },
  {
   "cell_type": "markdown",
   "id": "7d03b628-81b1-4bba-82a6-35ad13582ad3",
   "metadata": {},
   "source": [
    "Simple plot of the fairness values computed at each iteration"
   ]
  },
  {
   "cell_type": "code",
   "execution_count": 10,
   "id": "0993bf9a-8dcd-4ed1-b0c9-6af40cd3013c",
   "metadata": {},
   "outputs": [
    {
     "data": {
      "text/plain": [
       "<Axes: xlabel='index', ylabel='value'>"
      ]
     },
     "execution_count": 10,
     "metadata": {},
     "output_type": "execute_result"
    },
    {
     "data": {
      "image/png": "[encoded data removed]",
      "text/plain": [
       "<Figure size 432x288 with 1 Axes>"
      ]
     },
     "metadata": {
      "needs_background": "light"
     },
     "output_type": "display_data"
    }
   ],
   "source": [
    "fair_df_melt = fair_df.reset_index().melt(id_vars=['index'])\n",
    "sb.stripplot(data=fair_df_melt, x='index', y='value', hue='variable', dodge=True)"
   ]
  },
  {
   "cell_type": "markdown",
   "id": "08a28a36-a193-46d6-ae5c-726369bc60f3",
   "metadata": {},
   "source": [
    "Same for allocation"
   ]
  },
  {
   "cell_type": "code",
   "execution_count": 11,
   "id": "cce68d90-2f95-4a52-9c7a-3d2a0519f34b",
   "metadata": {},
   "outputs": [
    {
     "data": {
      "text/plain": [
       "<Axes: xlabel='index', ylabel='value'>"
      ]
     },
     "execution_count": 11,
     "metadata": {},
     "output_type": "execute_result"
    },
    {
     "data": {
      "image/png": "[encoded data removed]",
      "text/plain": [
       "<Figure size 432x288 with 1 Axes>"
      ]
     },
     "metadata": {
      "needs_background": "light"
     },
     "output_type": "display_data"
    }
   ],
   "source": [
    "alloc_df_melt = alloc_df.reset_index().melt(id_vars=['index'])\n",
    "sb.stripplot(data=alloc_df_melt, x='index', y='value', hue='variable', dodge=True)"
   ]
  },
  {
   "cell_type": "code",
   "execution_count": null,
   "id": "707f2016-9e13-421c-a1e6-7ad9e23ca1b0",
   "metadata": {},
   "outputs": [],
   "source": []
  }
 ],
 "metadata": {
  "kernelspec": {
   "display_name": "Python 3.10.5 64-bit",
   "language": "python",
   "name": "python3"
  },
  "language_info": {
   "codemirror_mode": {
    "name": "ipython",
    "version": 3
   },
   "file_extension": ".py",
   "mimetype": "text/x-python",
   "name": "python",
   "nbconvert_exporter": "python",
   "pygments_lexer": "ipython3",
   "version": "3.10.5"
  },
  "vscode": {
   "interpreter": {
    "hash": "aee8b7b246df8f9039afb4144a1f6fd8d2ca17a180786b69acc140d282b71a49"
   }
  }
 },
 "nbformat": 4,
 "nbformat_minor": 5
}
