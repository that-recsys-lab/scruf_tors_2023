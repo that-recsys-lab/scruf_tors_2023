{
 "cells": [
  {
   "cell_type": "markdown",
   "id": "0b5ee2d2-c7b1-4469-813b-e1372dcf9f83",
   "metadata": {},
   "source": [
    "### Install jsonlines if you need it"
   ]
  },
  {
   "cell_type": "markdown",
   "id": "a680e604-bad7-4e5d-af78-532510d784bc",
   "metadata": {},
   "source": [
    "import sys\n",
    "!conda install --yes --prefix {sys.prefix} jsonlines"
   ]
  },
  {
   "cell_type": "markdown",
   "id": "55218b7e-ed4b-4476-b426-e9326f26b07f",
   "metadata": {},
   "source": [
    "### Imports"
   ]
  },
  {
   "cell_type": "code",
   "execution_count": 1,
   "id": "90493d1a-2a88-4d3c-878a-d0625f9baf69",
   "metadata": {},
   "outputs": [],
   "source": [
    "import pandas as pd\n",
    "import numpy as np\n",
    "import matplotlib.pyplot as plt\n",
    "import seaborn as sb\n",
    "import jsonlines"
   ]
  },
  {
   "cell_type": "markdown",
   "id": "67e7dce2-e14a-400c-b469-057313e1a210",
   "metadata": {},
   "source": [
    "## Read the simulation output"
   ]
  },
  {
   "cell_type": "markdown",
   "id": "da40b404-25ca-41de-8643-198507facb51",
   "metadata": {},
   "source": [
    "First as raw JSON lines"
   ]
  },
  {
   "cell_type": "code",
   "execution_count": 12,
   "id": "d6d5d34d-e716-4742-925f-358f79b3ae3a",
   "metadata": {},
   "outputs": [],
   "source": [
    "HISTORY_FILE = 'test_data/history_file_static.json'"
   ]
  },
  {
   "cell_type": "code",
   "execution_count": 13,
   "id": "5534296f-9cf6-440c-9804-c1c8d146817a",
   "metadata": {},
   "outputs": [],
   "source": [
    "history = []\n",
    "with jsonlines.open(HISTORY_FILE) as reader:\n",
    "    for obj in reader:\n",
    "        history.append(obj)"
   ]
  },
  {
   "cell_type": "markdown",
   "id": "30b17e1b-f86f-46b1-9844-48cc70609b71",
   "metadata": {},
   "source": [
    "Functions to process the history"
   ]
  },
  {
   "cell_type": "code",
   "execution_count": 14,
   "id": "fac5fb5e-63ee-4e40-9e9e-8a2e9095d721",
   "metadata": {},
   "outputs": [],
   "source": [
    "def process_history(history, fair=True, compat=True, alloc=True, lists=True):\n",
    "    if fair:\n",
    "        fair_list = [entry['allocation']['fairness scores'] for entry in history]\n",
    "        fair_df = pd.DataFrame(fair_list)\n",
    "    else:\n",
    "        fair_df = None\n",
    "        \n",
    "    if compat:\n",
    "        compat_list = [entry['allocation']['compatibility scores'] for entry in history]\n",
    "        compat_df = pd.DataFrame(compat_list)\n",
    "    else:\n",
    "        compat_df = None\n",
    "        \n",
    "    if alloc:\n",
    "        alloc_list = [entry['allocation']['output'] for entry in history]\n",
    "        alloc_df = pd.DataFrame(alloc_list)\n",
    "    else:\n",
    "        alloc_df = None\n",
    "        \n",
    "    if lists:\n",
    "        results_list = [process_results(entry['choice']['output']['results']) for entry in history]\n",
    "    else:\n",
    "        results_list = None\n",
    "        \n",
    "    return fair_df, compat_df, alloc_df, results_list\n",
    "\n",
    "def process_results(result_structs):\n",
    "    return [(entry['item'], entry['score']) for entry in result_structs]\n",
    "        "
   ]
  },
  {
   "cell_type": "markdown",
   "id": "788aafab-3bb7-4ce3-9902-f8db6695c0af",
   "metadata": {},
   "source": [
    "Get the individual data frames and result lists"
   ]
  },
  {
   "cell_type": "code",
   "execution_count": 15,
   "id": "52b6ff9f-252c-482f-bfe2-7df6726ef191",
   "metadata": {},
   "outputs": [],
   "source": [
    "fair_df, compat_df, alloc_df, results = process_history(history)"
   ]
  },
  {
   "cell_type": "code",
   "execution_count": 16,
   "id": "69888a65-058b-4753-af52-768d832bba23",
   "metadata": {},
   "outputs": [
    {
     "data": {
      "text/html": [
       "<div>\n",
       "<style scoped>\n",
       "    .dataframe tbody tr th:only-of-type {\n",
       "        vertical-align: middle;\n",
       "    }\n",
       "\n",
       "    .dataframe tbody tr th {\n",
       "        vertical-align: top;\n",
       "    }\n",
       "\n",
       "    .dataframe thead th {\n",
       "        text-align: right;\n",
       "    }\n",
       "</style>\n",
       "<table border=\"1\" class=\"dataframe\">\n",
       "  <thead>\n",
       "    <tr style=\"text-align: right;\">\n",
       "      <th></th>\n",
       "      <th>Agent1</th>\n",
       "      <th>Agent2</th>\n",
       "    </tr>\n",
       "  </thead>\n",
       "  <tbody>\n",
       "    <tr>\n",
       "      <th>0</th>\n",
       "      <td>1.000000</td>\n",
       "      <td>1.000000</td>\n",
       "    </tr>\n",
       "    <tr>\n",
       "      <th>1</th>\n",
       "      <td>1.000000</td>\n",
       "      <td>0.000000</td>\n",
       "    </tr>\n",
       "    <tr>\n",
       "      <th>2</th>\n",
       "      <td>0.800000</td>\n",
       "      <td>0.700000</td>\n",
       "    </tr>\n",
       "    <tr>\n",
       "      <th>3</th>\n",
       "      <td>0.977778</td>\n",
       "      <td>0.466667</td>\n",
       "    </tr>\n",
       "    <tr>\n",
       "      <th>4</th>\n",
       "      <td>1.000000</td>\n",
       "      <td>0.350000</td>\n",
       "    </tr>\n",
       "    <tr>\n",
       "      <th>5</th>\n",
       "      <td>1.000000</td>\n",
       "      <td>0.280000</td>\n",
       "    </tr>\n",
       "    <tr>\n",
       "      <th>6</th>\n",
       "      <td>1.000000</td>\n",
       "      <td>0.233333</td>\n",
       "    </tr>\n",
       "    <tr>\n",
       "      <th>7</th>\n",
       "      <td>1.000000</td>\n",
       "      <td>0.200000</td>\n",
       "    </tr>\n",
       "    <tr>\n",
       "      <th>8</th>\n",
       "      <td>1.000000</td>\n",
       "      <td>0.175000</td>\n",
       "    </tr>\n",
       "    <tr>\n",
       "      <th>9</th>\n",
       "      <td>1.000000</td>\n",
       "      <td>0.377778</td>\n",
       "    </tr>\n",
       "  </tbody>\n",
       "</table>\n",
       "</div>"
      ],
      "text/plain": [
       "     Agent1    Agent2\n",
       "0  1.000000  1.000000\n",
       "1  1.000000  0.000000\n",
       "2  0.800000  0.700000\n",
       "3  0.977778  0.466667\n",
       "4  1.000000  0.350000\n",
       "5  1.000000  0.280000\n",
       "6  1.000000  0.233333\n",
       "7  1.000000  0.200000\n",
       "8  1.000000  0.175000\n",
       "9  1.000000  0.377778"
      ]
     },
     "execution_count": 16,
     "metadata": {},
     "output_type": "execute_result"
    }
   ],
   "source": [
    "fair_df"
   ]
  },
  {
   "cell_type": "code",
   "execution_count": 17,
   "id": "05db6d25-272a-4d81-8716-d5ed5fe39d5e",
   "metadata": {},
   "outputs": [
    {
     "data": {
      "text/html": [
       "<div>\n",
       "<style scoped>\n",
       "    .dataframe tbody tr th:only-of-type {\n",
       "        vertical-align: middle;\n",
       "    }\n",
       "\n",
       "    .dataframe tbody tr th {\n",
       "        vertical-align: top;\n",
       "    }\n",
       "\n",
       "    .dataframe thead th {\n",
       "        text-align: right;\n",
       "    }\n",
       "</style>\n",
       "<table border=\"1\" class=\"dataframe\">\n",
       "  <thead>\n",
       "    <tr style=\"text-align: right;\">\n",
       "      <th></th>\n",
       "      <th>Agent1</th>\n",
       "      <th>Agent2</th>\n",
       "    </tr>\n",
       "  </thead>\n",
       "  <tbody>\n",
       "    <tr>\n",
       "      <th>0</th>\n",
       "      <td>1.0</td>\n",
       "      <td>1.0</td>\n",
       "    </tr>\n",
       "    <tr>\n",
       "      <th>1</th>\n",
       "      <td>1.0</td>\n",
       "      <td>0.0</td>\n",
       "    </tr>\n",
       "    <tr>\n",
       "      <th>2</th>\n",
       "      <td>1.0</td>\n",
       "      <td>0.0</td>\n",
       "    </tr>\n",
       "    <tr>\n",
       "      <th>3</th>\n",
       "      <td>1.0</td>\n",
       "      <td>0.0</td>\n",
       "    </tr>\n",
       "    <tr>\n",
       "      <th>4</th>\n",
       "      <td>1.0</td>\n",
       "      <td>0.0</td>\n",
       "    </tr>\n",
       "    <tr>\n",
       "      <th>5</th>\n",
       "      <td>0.0</td>\n",
       "      <td>1.0</td>\n",
       "    </tr>\n",
       "    <tr>\n",
       "      <th>6</th>\n",
       "      <td>0.0</td>\n",
       "      <td>1.0</td>\n",
       "    </tr>\n",
       "    <tr>\n",
       "      <th>7</th>\n",
       "      <td>0.0</td>\n",
       "      <td>1.0</td>\n",
       "    </tr>\n",
       "    <tr>\n",
       "      <th>8</th>\n",
       "      <td>0.0</td>\n",
       "      <td>1.0</td>\n",
       "    </tr>\n",
       "    <tr>\n",
       "      <th>9</th>\n",
       "      <td>0.0</td>\n",
       "      <td>1.0</td>\n",
       "    </tr>\n",
       "  </tbody>\n",
       "</table>\n",
       "</div>"
      ],
      "text/plain": [
       "   Agent1  Agent2\n",
       "0     1.0     1.0\n",
       "1     1.0     0.0\n",
       "2     1.0     0.0\n",
       "3     1.0     0.0\n",
       "4     1.0     0.0\n",
       "5     0.0     1.0\n",
       "6     0.0     1.0\n",
       "7     0.0     1.0\n",
       "8     0.0     1.0\n",
       "9     0.0     1.0"
      ]
     },
     "execution_count": 17,
     "metadata": {},
     "output_type": "execute_result"
    }
   ],
   "source": [
    "compat_df"
   ]
  },
  {
   "cell_type": "code",
   "execution_count": 18,
   "id": "88bec460-a1ac-4f5c-92a5-390ede2ed123",
   "metadata": {},
   "outputs": [
    {
     "data": {
      "text/html": [
       "<div>\n",
       "<style scoped>\n",
       "    .dataframe tbody tr th:only-of-type {\n",
       "        vertical-align: middle;\n",
       "    }\n",
       "\n",
       "    .dataframe tbody tr th {\n",
       "        vertical-align: top;\n",
       "    }\n",
       "\n",
       "    .dataframe thead th {\n",
       "        text-align: right;\n",
       "    }\n",
       "</style>\n",
       "<table border=\"1\" class=\"dataframe\">\n",
       "  <thead>\n",
       "    <tr style=\"text-align: right;\">\n",
       "      <th></th>\n",
       "      <th>Agent1</th>\n",
       "      <th>Agent2</th>\n",
       "    </tr>\n",
       "  </thead>\n",
       "  <tbody>\n",
       "    <tr>\n",
       "      <th>0</th>\n",
       "      <td>1.0</td>\n",
       "      <td>0.0</td>\n",
       "    </tr>\n",
       "    <tr>\n",
       "      <th>1</th>\n",
       "      <td>0.0</td>\n",
       "      <td>1.0</td>\n",
       "    </tr>\n",
       "    <tr>\n",
       "      <th>2</th>\n",
       "      <td>1.0</td>\n",
       "      <td>0.0</td>\n",
       "    </tr>\n",
       "    <tr>\n",
       "      <th>3</th>\n",
       "      <td>1.0</td>\n",
       "      <td>0.0</td>\n",
       "    </tr>\n",
       "    <tr>\n",
       "      <th>4</th>\n",
       "      <td>1.0</td>\n",
       "      <td>0.0</td>\n",
       "    </tr>\n",
       "    <tr>\n",
       "      <th>5</th>\n",
       "      <td>1.0</td>\n",
       "      <td>0.0</td>\n",
       "    </tr>\n",
       "    <tr>\n",
       "      <th>6</th>\n",
       "      <td>1.0</td>\n",
       "      <td>0.0</td>\n",
       "    </tr>\n",
       "    <tr>\n",
       "      <th>7</th>\n",
       "      <td>1.0</td>\n",
       "      <td>0.0</td>\n",
       "    </tr>\n",
       "    <tr>\n",
       "      <th>8</th>\n",
       "      <td>0.0</td>\n",
       "      <td>1.0</td>\n",
       "    </tr>\n",
       "    <tr>\n",
       "      <th>9</th>\n",
       "      <td>1.0</td>\n",
       "      <td>0.0</td>\n",
       "    </tr>\n",
       "  </tbody>\n",
       "</table>\n",
       "</div>"
      ],
      "text/plain": [
       "   Agent1  Agent2\n",
       "0     1.0     0.0\n",
       "1     0.0     1.0\n",
       "2     1.0     0.0\n",
       "3     1.0     0.0\n",
       "4     1.0     0.0\n",
       "5     1.0     0.0\n",
       "6     1.0     0.0\n",
       "7     1.0     0.0\n",
       "8     0.0     1.0\n",
       "9     1.0     0.0"
      ]
     },
     "execution_count": 18,
     "metadata": {},
     "output_type": "execute_result"
    }
   ],
   "source": [
    "alloc_df"
   ]
  },
  {
   "cell_type": "code",
   "execution_count": 19,
   "id": "d9419a38-f3f8-45d7-a1da-de3530012c4a",
   "metadata": {},
   "outputs": [
    {
     "data": {
      "text/plain": [
       "[('45', 1.478120837710086),\n",
       " ('27', 1.4406997518869722),\n",
       " ('23', 1.4159817921699855),\n",
       " ('17', 1.410983500340931),\n",
       " ('51', 1.389159417795204),\n",
       " ('14', 1.3425811815646007),\n",
       " ('100', 1.317279736462317),\n",
       " ('13', 1.302401278854416),\n",
       " ('35', 1.2943394540204332),\n",
       " ('81', 1.291360436005951)]"
      ]
     },
     "execution_count": 19,
     "metadata": {},
     "output_type": "execute_result"
    }
   ],
   "source": [
    "results[0]"
   ]
  },
  {
   "cell_type": "markdown",
   "id": "4b11f144-7c54-4ac0-ab27-e8debc7d1854",
   "metadata": {},
   "source": [
    "## Visualizations"
   ]
  },
  {
   "cell_type": "markdown",
   "id": "7d03b628-81b1-4bba-82a6-35ad13582ad3",
   "metadata": {},
   "source": [
    "Simple plot of the fairness values computed at each iteration"
   ]
  },
  {
   "cell_type": "code",
   "execution_count": 20,
   "id": "0993bf9a-8dcd-4ed1-b0c9-6af40cd3013c",
   "metadata": {},
   "outputs": [
    {
     "data": {
      "text/plain": [
       "<Axes: xlabel='index', ylabel='value'>"
      ]
     },
     "execution_count": 20,
     "metadata": {},
     "output_type": "execute_result"
    },
    {
     "data": {
      "image/png": "[encoded data removed]",
      "text/plain": [
       "<Figure size 432x288 with 1 Axes>"
      ]
     },
     "metadata": {
      "needs_background": "light"
     },
     "output_type": "display_data"
    }
   ],
   "source": [
    "fair_df_melt = fair_df.reset_index().melt(id_vars=['index'])\n",
    "sb.stripplot(data=fair_df_melt, x='index', y='value', hue='variable', dodge=True)"
   ]
  },
  {
   "cell_type": "markdown",
   "id": "08a28a36-a193-46d6-ae5c-726369bc60f3",
   "metadata": {},
   "source": [
    "Same for allocation"
   ]
  },
  {
   "cell_type": "code",
   "execution_count": 21,
   "id": "cce68d90-2f95-4a52-9c7a-3d2a0519f34b",
   "metadata": {},
   "outputs": [
    {
     "data": {
      "text/plain": [
       "<Axes: xlabel='index', ylabel='value'>"
      ]
     },
     "execution_count": 21,
     "metadata": {},
     "output_type": "execute_result"
    },
    {
     "data": {
      "image/png": "[encoded data removed]",
      "text/plain": [
       "<Figure size 432x288 with 1 Axes>"
      ]
     },
     "metadata": {
      "needs_background": "light"
     },
     "output_type": "display_data"
    }
   ],
   "source": [
    "alloc_df_melt = alloc_df.reset_index().melt(id_vars=['index'])\n",
    "sb.stripplot(data=alloc_df_melt, x='index', y='value', hue='variable', dodge=True)"
   ]
  },
  {
   "cell_type": "code",
   "execution_count": null,
   "id": "707f2016-9e13-421c-a1e6-7ad9e23ca1b0",
   "metadata": {},
   "outputs": [],
   "source": []
  }
 ],
 "metadata": {
  "kernelspec": {
   "display_name": "Python 3.10.5 64-bit",
   "language": "python",
   "name": "python3"
  },
  "language_info": {
   "codemirror_mode": {
    "name": "ipython",
    "version": 3
   },
   "file_extension": ".py",
   "mimetype": "text/x-python",
   "name": "python",
   "nbconvert_exporter": "python",
   "pygments_lexer": "ipython3",
   "version": "3.10.5"
  },
  "vscode": {
   "interpreter": {
    "hash": "aee8b7b246df8f9039afb4144a1f6fd8d2ca17a180786b69acc140d282b71a49"
   }
  }
 },
 "nbformat": 4,
 "nbformat_minor": 5
}
