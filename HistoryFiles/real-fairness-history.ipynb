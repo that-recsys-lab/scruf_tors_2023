{
 "cells": [
  {
   "cell_type": "markdown",
   "id": "03a1136e-0888-427b-ab03-660906fbff26",
   "metadata": {},
   "source": [
    "### Imports"
   ]
  },
  {
   "cell_type": "code",
   "execution_count": 1,
   "id": "5abf7b75-b29d-4802-9bca-e5cee9420a5d",
   "metadata": {},
   "outputs": [],
   "source": [
    "import pandas as pd\n",
    "import numpy as np\n",
    "import matplotlib.pyplot as plt\n",
    "import seaborn as sb\n",
    "import jsonlines"
   ]
  },
  {
   "cell_type": "markdown",
   "id": "93f29dcf-8064-4ee4-b04c-c4d2549d3e46",
   "metadata": {},
   "source": [
    "## Read the simulation output"
   ]
  },
  {
   "cell_type": "markdown",
   "id": "a03101ae-7937-4b0b-adb1-886910bacb0d",
   "metadata": {},
   "source": [
    "First as raw JSON lines"
   ]
  },
  {
   "cell_type": "code",
   "execution_count": 57,
   "id": "36348ec6-7847-40dd-a232-2a5db77812f2",
   "metadata": {},
   "outputs": [],
   "source": [
    "BASELINE = 'history_file_baseline_2agents.json'\n",
    "PROD_LOTTERY = 'history_file_product_lottery_2agents.json'\n",
    "STATIC = 'history_file_static_lottery_2agents.json'\n",
    "LEAST_FAIR = 'history_file_least_fair_2agents.json'\n",
    "MOST_COMPAT = 'history_file_most_compatible_2agents.json'\n",
    "FAIR_LOTTERY = 'history_file_fairness_lottery_2agents.json'\n",
    "WEIGHTED_ALLOC = 'history_file_product_allocation_2agents.json'"
   ]
  },
  {
   "cell_type": "code",
   "execution_count": 3,
   "id": "986d6a58-4db6-422e-b8a9-148c7a8a1da0",
   "metadata": {},
   "outputs": [],
   "source": [
    "def sim_reader(filename):\n",
    "    entries = []\n",
    "    with jsonlines.open(filename) as reader:\n",
    "        for obj in reader:\n",
    "            entries.append(obj)\n",
    "    return entries"
   ]
  },
  {
   "cell_type": "code",
   "execution_count": 4,
   "id": "205f829b-1188-4b44-a631-31916b73abd7",
   "metadata": {},
   "outputs": [],
   "source": [
    "def process_history(history, fair=True, compat=True, alloc=True, lists=True):\n",
    "    if fair:\n",
    "        fair_list = [entry['allocation']['fairness scores'] for entry in history]\n",
    "        fair_df = pd.DataFrame(fair_list)\n",
    "    else:\n",
    "        fair_df = None\n",
    "        \n",
    "    if compat:\n",
    "        compat_list = [entry['allocation']['compatibility scores'] for entry in history]\n",
    "        compat_df = pd.DataFrame(compat_list)\n",
    "    else:\n",
    "        compat_df = None\n",
    "        \n",
    "    if alloc:\n",
    "        alloc_list = [entry['allocation']['output'] for entry in history]\n",
    "        alloc_df = pd.DataFrame(alloc_list)\n",
    "        alloc_df['none'] = (alloc_df['Agent1'] == 0) & (alloc_df['Agent2'] == 0)\n",
    "    else:\n",
    "        alloc_df = None\n",
    "        \n",
    "    if lists:\n",
    "        results_list = [process_results(entry['choice']['output']['results']) for entry in history]\n",
    "    else:\n",
    "        results_list = None\n",
    "    \n",
    "        \n",
    "    return fair_df, compat_df, alloc_df, results_list\n",
    "\n",
    "def process_results(result_structs):\n",
    "    \n",
    "    return [(entry['item'], entry['score']) for entry in result_structs]\n",
    "\n",
    "        "
   ]
  },
  {
   "cell_type": "code",
   "execution_count": 18,
   "id": "7ecde040-56a9-499d-b97e-86addbdbcc23",
   "metadata": {},
   "outputs": [],
   "source": [
    "item_data = pd.read_csv('../data1K-2agents/Data/item.csv', header=None)\n",
    "item_data.columns = ['item', 'agent', 'protected']\n"
   ]
  },
  {
   "cell_type": "code",
   "execution_count": 31,
   "id": "b24bdc08-8604-47cd-a878-c02b4ef15596",
   "metadata": {},
   "outputs": [],
   "source": [
    "item_data = item_data.set_index('item')"
   ]
  },
  {
   "cell_type": "code",
   "execution_count": 23,
   "id": "002513ce-f880-4435-a481-0fcf2a2cf2e4",
   "metadata": {},
   "outputs": [],
   "source": [
    "# assumes that there's only one protected feature per item\n",
    "# ok for these experiments\n",
    "def count_protected(agent, result_entries):\n",
    "    return sum([1 if item_data.loc[int(result[0]), 'agent'] == agent else 0 for result in result_entries])\n",
    "    \n",
    "def count_all_protected(agent, results):\n",
    "    return sum([count_protected(agent, result_entries) for result_entries in results])"
   ]
  },
  {
   "cell_type": "code",
   "execution_count": 58,
   "id": "69d319ef-2feb-4a35-960f-a668b747b0d4",
   "metadata": {},
   "outputs": [],
   "source": [
    "histories = {'baseline': BASELINE, \n",
    "             'least_misery': LEAST_FAIR,\n",
    "             'most_compat' : MOST_COMPAT,\n",
    "             'static' : STATIC,\n",
    "             'fair_lottery': FAIR_LOTTERY,\n",
    "             'weighted_alloc': WEIGHTED_ALLOC}\n",
    "             \n",
    "def compute_results(filename):\n",
    "    history = sim_reader(filename)\n",
    "    _, _, _, results = process_history(history, fair=False, compat=False, alloc=False, lists=True)\n",
    "    return results\n",
    "\n",
    "result_dict = {name: compute_results(filename) for name, filename in histories.items()}\n"
   ]
  },
  {
   "cell_type": "code",
   "execution_count": 59,
   "id": "9be48cb6-27ed-4d21-986d-61766cf78985",
   "metadata": {},
   "outputs": [],
   "source": [
    "count_dict0 = {name: count_all_protected(0, results) for name, results in result_dict.items()}"
   ]
  },
  {
   "cell_type": "code",
   "execution_count": 60,
   "id": "091748e0-530b-4128-9fbe-5037b1a1bbe7",
   "metadata": {},
   "outputs": [],
   "source": [
    "count_dict1 = {name: count_all_protected(1, results) for name, results in result_dict.items()}"
   ]
  },
  {
   "cell_type": "code",
   "execution_count": 61,
   "id": "1b45de52-3b9e-4175-9d86-aefb0420d1b4",
   "metadata": {},
   "outputs": [],
   "source": [
    "count_dict2 = {name: count_all_protected(2, results) for name, results in result_dict.items()}"
   ]
  },
  {
   "cell_type": "code",
   "execution_count": 39,
   "id": "e2b1d268-7031-4876-9b4d-b5b23f1ebb8a",
   "metadata": {},
   "outputs": [
    {
     "data": {
      "text/plain": [
       "{'baseline': 2771,\n",
       " 'least_misery': 5945,\n",
       " 'most_compat': 4234,\n",
       " 'static': 5425,\n",
       " 'fair_lottery': 5752}"
      ]
     },
     "execution_count": 39,
     "metadata": {},
     "output_type": "execute_result"
    }
   ],
   "source": [
    "count_dict1"
   ]
  },
  {
   "cell_type": "code",
   "execution_count": 40,
   "id": "77008e88-e7d4-408c-b816-94b7f7fd8922",
   "metadata": {},
   "outputs": [
    {
     "data": {
      "text/plain": [
       "{'baseline': 2712,\n",
       " 'least_misery': 4003,\n",
       " 'most_compat': 4215,\n",
       " 'static': 3609,\n",
       " 'fair_lottery': 4205}"
      ]
     },
     "execution_count": 40,
     "metadata": {},
     "output_type": "execute_result"
    }
   ],
   "source": [
    "count_dict2"
   ]
  },
  {
   "cell_type": "code",
   "execution_count": 65,
   "id": "e1e6994d-2ec4-4714-a707-55bf7d436129",
   "metadata": {},
   "outputs": [],
   "source": [
    "count_df = pd.DataFrame([count_dict0, count_dict1, count_dict2])"
   ]
  },
  {
   "cell_type": "code",
   "execution_count": 66,
   "id": "9cb09ca5-1afe-4188-9f66-b8c979e48a63",
   "metadata": {},
   "outputs": [
    {
     "data": {
      "text/html": [
       "<div>\n",
       "<style scoped>\n",
       "    .dataframe tbody tr th:only-of-type {\n",
       "        vertical-align: middle;\n",
       "    }\n",
       "\n",
       "    .dataframe tbody tr th {\n",
       "        vertical-align: top;\n",
       "    }\n",
       "\n",
       "    .dataframe thead th {\n",
       "        text-align: right;\n",
       "    }\n",
       "</style>\n",
       "<table border=\"1\" class=\"dataframe\">\n",
       "  <thead>\n",
       "    <tr style=\"text-align: right;\">\n",
       "      <th></th>\n",
       "      <th>baseline</th>\n",
       "      <th>least_misery</th>\n",
       "      <th>most_compat</th>\n",
       "      <th>static</th>\n",
       "      <th>fair_lottery</th>\n",
       "      <th>weighted_alloc</th>\n",
       "    </tr>\n",
       "  </thead>\n",
       "  <tbody>\n",
       "    <tr>\n",
       "      <th>0</th>\n",
       "      <td>4517</td>\n",
       "      <td>52</td>\n",
       "      <td>1551</td>\n",
       "      <td>966</td>\n",
       "      <td>43</td>\n",
       "      <td>71</td>\n",
       "    </tr>\n",
       "    <tr>\n",
       "      <th>1</th>\n",
       "      <td>2771</td>\n",
       "      <td>5945</td>\n",
       "      <td>4234</td>\n",
       "      <td>5425</td>\n",
       "      <td>5752</td>\n",
       "      <td>5817</td>\n",
       "    </tr>\n",
       "    <tr>\n",
       "      <th>2</th>\n",
       "      <td>2712</td>\n",
       "      <td>4003</td>\n",
       "      <td>4215</td>\n",
       "      <td>3609</td>\n",
       "      <td>4205</td>\n",
       "      <td>4112</td>\n",
       "    </tr>\n",
       "  </tbody>\n",
       "</table>\n",
       "</div>"
      ],
      "text/plain": [
       "   baseline  least_misery  most_compat  static  fair_lottery  weighted_alloc\n",
       "0      4517            52         1551     966            43              71\n",
       "1      2771          5945         4234    5425          5752            5817\n",
       "2      2712          4003         4215    3609          4205            4112"
      ]
     },
     "execution_count": 66,
     "metadata": {},
     "output_type": "execute_result"
    }
   ],
   "source": [
    "count_df"
   ]
  },
  {
   "cell_type": "code",
   "execution_count": 67,
   "id": "a243f380-f19e-4c42-a610-f8f82933d41d",
   "metadata": {},
   "outputs": [
    {
     "data": {
      "text/html": [
       "<div>\n",
       "<style scoped>\n",
       "    .dataframe tbody tr th:only-of-type {\n",
       "        vertical-align: middle;\n",
       "    }\n",
       "\n",
       "    .dataframe tbody tr th {\n",
       "        vertical-align: top;\n",
       "    }\n",
       "\n",
       "    .dataframe thead th {\n",
       "        text-align: right;\n",
       "    }\n",
       "</style>\n",
       "<table border=\"1\" class=\"dataframe\">\n",
       "  <thead>\n",
       "    <tr style=\"text-align: right;\">\n",
       "      <th></th>\n",
       "      <th>baseline</th>\n",
       "      <th>least_misery</th>\n",
       "      <th>most_compat</th>\n",
       "      <th>static</th>\n",
       "      <th>fair_lottery</th>\n",
       "      <th>weighted_alloc</th>\n",
       "    </tr>\n",
       "  </thead>\n",
       "  <tbody>\n",
       "    <tr>\n",
       "      <th>0</th>\n",
       "      <td>0.4517</td>\n",
       "      <td>0.0052</td>\n",
       "      <td>0.1551</td>\n",
       "      <td>0.0966</td>\n",
       "      <td>0.0043</td>\n",
       "      <td>0.0071</td>\n",
       "    </tr>\n",
       "    <tr>\n",
       "      <th>1</th>\n",
       "      <td>0.2771</td>\n",
       "      <td>0.5945</td>\n",
       "      <td>0.4234</td>\n",
       "      <td>0.5425</td>\n",
       "      <td>0.5752</td>\n",
       "      <td>0.5817</td>\n",
       "    </tr>\n",
       "    <tr>\n",
       "      <th>2</th>\n",
       "      <td>0.2712</td>\n",
       "      <td>0.4003</td>\n",
       "      <td>0.4215</td>\n",
       "      <td>0.3609</td>\n",
       "      <td>0.4205</td>\n",
       "      <td>0.4112</td>\n",
       "    </tr>\n",
       "  </tbody>\n",
       "</table>\n",
       "</div>"
      ],
      "text/plain": [
       "   baseline  least_misery  most_compat  static  fair_lottery  weighted_alloc\n",
       "0    0.4517        0.0052       0.1551  0.0966        0.0043          0.0071\n",
       "1    0.2771        0.5945       0.4234  0.5425        0.5752          0.5817\n",
       "2    0.2712        0.4003       0.4215  0.3609        0.4205          0.4112"
      ]
     },
     "execution_count": 67,
     "metadata": {},
     "output_type": "execute_result"
    }
   ],
   "source": [
    "count_df/10000"
   ]
  },
  {
   "cell_type": "code",
   "execution_count": 69,
   "id": "2f39da5d-8130-49c9-b3b6-0fadab4d5315",
   "metadata": {},
   "outputs": [
    {
     "data": {
      "text/plain": [
       "0.7866666666666666"
      ]
     },
     "execution_count": 69,
     "metadata": {},
     "output_type": "execute_result"
    }
   ],
   "source": [
    "1- ((.75 - .59)/.75)\n"
   ]
  },
  {
   "cell_type": "code",
   "execution_count": null,
   "id": "6adbf7b7-d05e-4c83-afd5-046395abc20f",
   "metadata": {},
   "outputs": [],
   "source": []
  }
 ],
 "metadata": {
  "kernelspec": {
   "display_name": "Python 3 (ipykernel)",
   "language": "python",
   "name": "python3"
  },
  "language_info": {
   "codemirror_mode": {
    "name": "ipython",
    "version": 3
   },
   "file_extension": ".py",
   "mimetype": "text/x-python",
   "name": "python",
   "nbconvert_exporter": "python",
   "pygments_lexer": "ipython3",
   "version": "3.9.13"
  }
 },
 "nbformat": 4,
 "nbformat_minor": 5
}
