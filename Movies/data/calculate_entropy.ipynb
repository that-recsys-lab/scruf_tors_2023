{
 "cells": [
  {
   "cell_type": "code",
   "execution_count": 1,
   "id": "a6515f6a-1b6c-45c3-897d-c1d77456a721",
   "metadata": {},
   "outputs": [],
   "source": [
    "import numpy as np\n",
    "import pandas as pd\n",
    "from scipy.stats import entropy\n"
   ]
  },
  {
   "cell_type": "code",
   "execution_count": 2,
   "id": "7e0c0ae8-9830-4e27-ae57-d7849a4e2376",
   "metadata": {},
   "outputs": [],
   "source": [
    "dataset_users = pd.read_csv('./ratings.csv', header=None)\n",
    "dataset_features = pd.read_csv('./items.csv',header=None)"
   ]
  },
  {
   "cell_type": "code",
   "execution_count": 3,
   "id": "b903037f-2395-491c-8271-44e099ddd035",
   "metadata": {},
   "outputs": [],
   "source": [
    "# Set header names\n",
    "dataset_users.columns = ['user_id', 'movie_id', 'rating']\n",
    "dataset_features.columns = ['movie_id', 'feature_id', 'feature_value']"
   ]
  },
  {
   "cell_type": "code",
   "execution_count": 4,
   "id": "c974dc72-3792-4c16-b4fc-755cbd2e4b5f",
   "metadata": {},
   "outputs": [],
   "source": [
    "# Merge the two datasets on movie_id\n",
    "dataset_merged = pd.merge(dataset_users, dataset_features, on='movie_id')\n",
    "\n",
    "unique_features = dataset_merged['feature_id'].unique()"
   ]
  },
  {
   "cell_type": "code",
   "execution_count": 5,
   "id": "6fc4d567-90f3-426d-8ef9-1f2f7134c6f3",
   "metadata": {},
   "outputs": [
    {
     "name": "stdout",
     "output_type": "stream",
     "text": [
      "['Crime' 'Drama' 'Mystery' 'Thriller' 'women_writer_director' 'en'\n",
      " 'Comedy' 'de' 'non-en' 'Romance' 'it' 'Action' 'sci_fi' 'Horror'\n",
      " 'Adventure' 'Family' 'ja' 'mi' 'zh' 'fr' 'Animation' 'Fantasy' 'ru'\n",
      " 'History' 'Music' 'War' 'Western' 'es' 'da' 'nl' 'yi' 'Documentary' 'fi'\n",
      " 'mn' 'ar' 'la' 'xx' 'ko' 'eo' 'Foreign' 'tr' 'qu' 'fa' 'sq' 'sv' 'is'\n",
      " 'hi' 'th' 'af' 'el' 'zu' 'cs' 'sk' 'pl' 'pt' 'TV' 'cy' 'ln' 'ur' 'ga'\n",
      " 'he' 'hu' 'sc' 'nv' 'lb' 'no' 'sw' 'bs' 'sr' 'cn' 'bg' 'tl' 'ka' 'ro'\n",
      " 'pa' 'sh' 'id' 'gd' 'lt' 'mt' 'sl' 'hr' 'si' 'km' 'sa' 'ku' 'bo' 'gl'\n",
      " 'ne' 'am' 'uk' 'et' 'co' 'vi' 'bn' 'kk' 'xh' 'eu' 'ta' 'ca' 'Adult' 'mr'\n",
      " 'ms' 'tt' 'kw' 'te' 'gn' 'ps' 'so' 'se' 'wo']\n"
     ]
    }
   ],
   "source": [
    "print(unique_features)"
   ]
  },
  {
   "cell_type": "code",
   "execution_count": 6,
   "id": "5ea303f7-5075-488f-98b7-8ad26ef54e94",
   "metadata": {},
   "outputs": [],
   "source": [
    "# Initialize an empty list to store the results\n",
    "results = []\n",
    "no_entropy = []\n",
    "\n",
    "for user in dataset_merged['user_id'].unique():\n",
    "    user_data = dataset_merged[dataset_merged['user_id'] == user]\n",
    "    count_movies = np.zeros(len(unique_features))\n",
    "    \n",
    "    for idx, feature in enumerate(unique_features):\n",
    "        count_movies_with_feature = len(user_data[user_data['feature_id'] == feature])\n",
    "        count_movies[:count_movies_with_feature] = 1\n",
    "        count_movies[:len(count_movies)+1] = 1\n",
    "        \n",
    "        entropy_val = entropy(count_movies)\n",
    "        results.append([user, feature, entropy_val])"
   ]
  },
  {
   "cell_type": "code",
   "execution_count": 7,
   "id": "b997cbe3-47e1-4d36-97f3-26cfee06f2ee",
   "metadata": {},
   "outputs": [
    {
     "name": "stdout",
     "output_type": "stream",
     "text": [
      "   user_id             feature_id  entropy\n",
      "0   158052                  Crime  4.70953\n",
      "1   158052                  Drama  4.70953\n",
      "2   158052                Mystery  4.70953\n",
      "3   158052               Thriller  4.70953\n",
      "4   158052  women_writer_director  4.70953\n"
     ]
    }
   ],
   "source": [
    "# Create a new DataFrame from the results list\n",
    "results_df = pd.DataFrame(results, columns=['user_id', 'feature_id', 'entropy'])\n",
    "\n",
    "print(results_df.head())\n"
   ]
  },
  {
   "cell_type": "code",
   "execution_count": 8,
   "id": "9faf98a0-42a8-47b4-91bc-90a8407160e6",
   "metadata": {},
   "outputs": [],
   "source": [
    "# Save the DataFrame to a CSV file\n",
    "results_df.to_csv('compat.csv', index=False, header=False)"
   ]
  },
  {
   "cell_type": "code",
   "execution_count": null,
   "id": "8373dde0-873c-4fd2-817e-a868aea3df4a",
   "metadata": {},
   "outputs": [],
   "source": []
  }
 ],
 "metadata": {
  "kernelspec": {
   "display_name": "Python 3 (ipykernel)",
   "language": "python",
   "name": "python3"
  },
  "language_info": {
   "codemirror_mode": {
    "name": "ipython",
    "version": 3
   },
   "file_extension": ".py",
   "mimetype": "text/x-python",
   "name": "python",
   "nbconvert_exporter": "python",
   "pygments_lexer": "ipython3",
   "version": "3.10.8"
  }
 },
 "nbformat": 4,
 "nbformat_minor": 5
}
